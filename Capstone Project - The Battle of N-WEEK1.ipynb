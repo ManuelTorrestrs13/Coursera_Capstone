{
 "cells": [
  {
   "cell_type": "markdown",
   "metadata": {},
   "source": [
    "## Capstone Project - The Battle of Neighborhoods \n",
    "### Peer graded assignment\n"
   ]
  },
  {
   "cell_type": "markdown",
   "metadata": {},
   "source": [
    "### Introduction:\n",
    "\n",
    "Discussing the matter with my family, my uncle just commented that he has been thinking of opening a restaurant in Mexico, wether it could be in Guadalajara or Monterrey city. Both are among the most important cities in Mexico and are relevant for my uncle given that he runs business in both of them, but because of the lack of information available on restaurants in this two cities, he might use an additional analysis based on the data collected by Foursquare.\n",
    "\n",
    "**About Monterrey**\n",
    "\n",
    "Monterrey is the capital of the state of Nuevo León. It is located in the Northeast Region of Mexico. It is also one of the main business and financial centers in the country. It serves as the main industrial and economic epicenter for the North of Mexico. According to a study by Mercer Human Resource Consulting, in 2019 it is the city with the best quality of life in Mexico and the 113th in the world. Monterrey is home to the city of San Pedro Garza García in its metropolitan area, which is the richest area in Mexico and Latin America. Its economy  recognized for being the base of many national and international companies such as Gamesa, Cemex, Oxxo, FEMSA, Vitro, Grupo Alfa, among others. Monterrey has a population of 4,190,544 inhabitants. It is the second richest city in Mexico by the size of the local economy with a GDP of 90.837 million dollars in 2015. \n",
    "\n",
    "**About Guadalajara**\n",
    "\n",
    "Guadalajara city is the capital of the Mexican state of Jalisco. It is located in the central region of the state, in the western Pacific area of Mexico, within the geographical area known as Valle de Atemajac. It is a solid business and economic center in the *El Bajío* region. With a population of 1,460,148 inhabitants, it is the second most populated city in Mexico behind Mexico City, and it is also part of the Guadalajara metropolitan area which, along with eight other neighboring municipalities, is considered the second most populated metropolitan area in Mexico and the first in the Bajío region with 5,000,000 inhabitants.\n",
    "\n",
    "Guadalajara is constituted as the third economic nucleus of the country, after Mexico City and Monterrey, with a GDP of 80,656 million dollars in 2014. It was cataloged as a gamma city in 20168 and as one of the 90 most productive cities in the world , with a score of 56.3.9\n",
    "\n",
    "So by running this analysis we attempt to address the following questions:\n",
    "\n",
    "- Based on the type of cuisine, how accurate can the amount of 'likes' be predicted on both cities?\n",
    "- Considering the variable 'ranking' measured by Foursquare, can we give a recommendation on what type of restaurant should my uncle consider opening and in which city, Monterrey or Guadalajara?\n",
    "\n",
    "### About the Data:\n",
    "\n",
    "For the sake of simplicity after some data wranlging, the dataset on which we are going to be applying some machine learning algoriths will be called juast 'data'\n",
    "\n",
    "- The first step is to retrieve the geographical coordinates of bothe cities (Guadalajara and Monterrey). \n",
    "- Then we'll get the URLs by leveraging the Foursquare API which will return the raw data in JSON form. E\n",
    "- Both URL is going to be scraped for the columns: 'name', 'categories', 'latitude', 'longitude', and'id' for each city. \n",
    "-  A column with the name of the city will be added in order to differenciate the venues tha were retrieved from Foursquare API.\n",
    "- In order to obtain results as wide as possible, I have detemined use a 1000km radius returned by the geolocator. Foursquare API will provide non-restaurant so a cleaning process will be run in order to work just with restaurant information in our rows. \n",
    "- Using the 'id' columns we'll be able to Pull data for 'likes' and append it into the dataframe, this will help to address the question later on. \n",
    "\n",
    "### Chosen Methodology:\n",
    "\n",
    "To train and test the data will be done by applying linear and logistic regression models. Linear regression will be helpful to predict 'likes' as intended. Sci-Kit Learn library will provide the appropiate tools for this step. The classification method that we're going to try is Logistic regression as binning will also be utilized on the previous step to classify by 'likes'; in essence a multinomial linear regression will be performed. Despite we are working with categorical ranges, we can use the **get_dummies** method to complete the analysis, that's is why I beleive logistic regression  is a suitable option for this project. The Sci-Kit Learn library will also be helpful here."
   ]
  }
 ],
 "metadata": {
  "kernelspec": {
   "display_name": "Python 3",
   "language": "python",
   "name": "python3"
  },
  "language_info": {
   "codemirror_mode": {
    "name": "ipython",
    "version": 3
   },
   "file_extension": ".py",
   "mimetype": "text/x-python",
   "name": "python",
   "nbconvert_exporter": "python",
   "pygments_lexer": "ipython3",
   "version": "3.8.3"
  }
 },
 "nbformat": 4,
 "nbformat_minor": 4
}
